{
 "cells": [
  {
   "cell_type": "code",
   "execution_count": 2,
   "metadata": {
    "ExecuteTime": {
     "end_time": "2023-07-08T09:46:55.290216Z",
     "start_time": "2023-07-08T09:46:54.938592Z"
    }
   },
   "outputs": [
    {
     "name": "stdout",
     "output_type": "stream",
     "text": [
      "[2023/07/09 19:45:34] ppocr DEBUG: Namespace(help='==SUPPRESS==', use_gpu=True, use_xpu=False, use_npu=False, ir_optim=True, use_tensorrt=False, min_subgraph_size=15, precision='fp32', gpu_mem=500, gpu_id=0, image_dir=None, page_num=0, det_algorithm='DB', det_model_dir='/home/bma/.paddleocr/whl/det/ml/Multilingual_PP-OCRv3_det_infer', det_limit_side_len=960, det_limit_type='max', det_box_type='quad', det_db_thresh=0.3, det_db_box_thresh=0.6, det_db_unclip_ratio=1.5, max_batch_size=10, use_dilation=False, det_db_score_mode='fast', det_east_score_thresh=0.8, det_east_cover_thresh=0.1, det_east_nms_thresh=0.2, det_sast_score_thresh=0.5, det_sast_nms_thresh=0.2, det_pse_thresh=0, det_pse_box_thresh=0.85, det_pse_min_area=16, det_pse_scale=1, scales=[8, 16, 32], alpha=1.0, beta=1.0, fourier_degree=5, rec_algorithm='SVTR_LCNet', rec_model_dir='./inference/svtr_kz', rec_image_inverse=True, rec_image_shape='3, 48, 320', rec_batch_num=6, max_text_length=25, rec_char_dict_path='/home/bma/bma/PaddleOCR_Mukhtar/ppocr/utils/dict/kz_dict.txt', use_space_char=True, vis_font_path='./doc/fonts/simfang.ttf', drop_score=0.5, e2e_algorithm='PGNet', e2e_model_dir=None, e2e_limit_side_len=768, e2e_limit_type='max', e2e_pgnet_score_thresh=0.5, e2e_char_dict_path='./ppocr/utils/ic15_dict.txt', e2e_pgnet_valid_set='totaltext', e2e_pgnet_mode='fast', use_angle_cls=True, cls_model_dir='/home/bma/.paddleocr/whl/cls/ch_ppocr_mobile_v2.0_cls_infer', cls_image_shape='3, 48, 192', label_list=['0', '180'], cls_batch_num=6, cls_thresh=0.9, enable_mkldnn=False, cpu_threads=10, use_pdserving=False, warmup=False, sr_model_dir=None, sr_image_shape='3, 32, 128', sr_batch_num=1, draw_img_save_dir='./inference_results', save_crop_res=False, crop_res_save_dir='./output', use_mp=False, total_process_num=1, process_id=0, benchmark=False, save_log_path='./log_output/', show_log=True, use_onnx=False, output='./output', table_max_len=488, table_algorithm='TableAttn', table_model_dir=None, merge_no_span_structure=True, table_char_dict_path=None, layout_model_dir=None, layout_dict_path=None, layout_score_threshold=0.5, layout_nms_threshold=0.5, kie_algorithm='LayoutXLM', ser_model_dir=None, re_model_dir=None, use_visual_backbone=True, ser_dict_path='../train_data/XFUND/class_list_xfun.txt', ocr_order_method=None, mode='structure', image_orientation=False, layout=True, table=True, ocr=True, recovery=False, use_pdf2docx_api=False, lang='ru', det=True, rec=True, type='ocr', ocr_version='PP-OCRv3', structure_version='PP-StructureV2')\n"
     ]
    }
   ],
   "source": [
    "from paddleocr import PaddleOCR, draw_ocr\n",
    "\n",
    "# Paddleocr supports Chinese, English, French, German, Korean and Japanese.\n",
    "# You can set the parameter `lang` as `ch`, `en`, `fr`, `german`, `korean`, `japan`\n",
    "# to switch the language model in order.\n",
    "ocr = PaddleOCR(\n",
    "    use_angle_cls=True, \n",
    "    lang='ru',\n",
    "    rec_algorithm='SVTR_LCNet', \n",
    "    rec_model_dir='./inference/svtr_kz',\n",
    "    rec_char_dict_path='/home/bma/bma/PaddleOCR_Mukhtar/ppocr/utils/dict/kz_dict.txt',\n",
    ")  # need to run only once to download and load model into memory"
   ]
  },
  {
   "cell_type": "code",
   "execution_count": 3,
   "metadata": {
    "ExecuteTime": {
     "end_time": "2023-07-08T09:48:15.590604Z",
     "start_time": "2023-07-08T09:48:15.371288Z"
    }
   },
   "outputs": [
    {
     "ename": "FileNotFoundError",
     "evalue": "[Errno 2] No such file or directory: '/Users/make/projects/PaddleOCR/train_data/100_сурет_карточка/[әлем]_123.JPG'",
     "output_type": "error",
     "traceback": [
      "\u001b[0;31m---------------------------------------------------------------------------\u001b[0m",
      "\u001b[0;31mFileNotFoundError\u001b[0m                         Traceback (most recent call last)",
      "Cell \u001b[0;32mIn[3], line 2\u001b[0m\n\u001b[1;32m      1\u001b[0m img_path \u001b[39m=\u001b[39m \u001b[39m'\u001b[39m\u001b[39m/Users/make/projects/PaddleOCR/train_data/100_сурет_карточка/[әлем]_123.JPG\u001b[39m\u001b[39m'\u001b[39m\n\u001b[0;32m----> 2\u001b[0m result \u001b[39m=\u001b[39m ocr\u001b[39m.\u001b[39;49mocr(img_path,  rec\u001b[39m=\u001b[39;49m\u001b[39mFalse\u001b[39;49;00m)\n\u001b[1;32m      3\u001b[0m \u001b[39mfor\u001b[39;00m idx \u001b[39min\u001b[39;00m \u001b[39mrange\u001b[39m(\u001b[39mlen\u001b[39m(result)):\n\u001b[1;32m      4\u001b[0m     res \u001b[39m=\u001b[39m result[idx]\n",
      "File \u001b[0;32m~/bma/PaddleOCR_Mukhtar/paddleocr.py:531\u001b[0m, in \u001b[0;36mPaddleOCR.ocr\u001b[0;34m(self, img, det, rec, cls)\u001b[0m\n\u001b[1;32m    526\u001b[0m \u001b[39mif\u001b[39;00m \u001b[39mcls\u001b[39m \u001b[39m==\u001b[39m \u001b[39mTrue\u001b[39;00m \u001b[39mand\u001b[39;00m \u001b[39mself\u001b[39m\u001b[39m.\u001b[39muse_angle_cls \u001b[39m==\u001b[39m \u001b[39mFalse\u001b[39;00m:\n\u001b[1;32m    527\u001b[0m     logger\u001b[39m.\u001b[39mwarning(\n\u001b[1;32m    528\u001b[0m         \u001b[39m'\u001b[39m\u001b[39mSince the angle classifier is not initialized, the angle classifier will not be uesd during the forward process\u001b[39m\u001b[39m'\u001b[39m\n\u001b[1;32m    529\u001b[0m     )\n\u001b[0;32m--> 531\u001b[0m img \u001b[39m=\u001b[39m check_img(img)\n\u001b[1;32m    532\u001b[0m \u001b[39m# for infer pdf file\u001b[39;00m\n\u001b[1;32m    533\u001b[0m \u001b[39mif\u001b[39;00m \u001b[39misinstance\u001b[39m(img, \u001b[39mlist\u001b[39m):\n",
      "File \u001b[0;32m~/bma/PaddleOCR_Mukhtar/paddleocr.py:441\u001b[0m, in \u001b[0;36mcheck_img\u001b[0;34m(img)\u001b[0m\n\u001b[1;32m    439\u001b[0m img, flag_gif, flag_pdf \u001b[39m=\u001b[39m check_and_read(image_file)\n\u001b[1;32m    440\u001b[0m \u001b[39mif\u001b[39;00m \u001b[39mnot\u001b[39;00m flag_gif \u001b[39mand\u001b[39;00m \u001b[39mnot\u001b[39;00m flag_pdf:\n\u001b[0;32m--> 441\u001b[0m     \u001b[39mwith\u001b[39;00m \u001b[39mopen\u001b[39;49m(image_file, \u001b[39m'\u001b[39;49m\u001b[39mrb\u001b[39;49m\u001b[39m'\u001b[39;49m) \u001b[39mas\u001b[39;00m f:\n\u001b[1;32m    442\u001b[0m         img \u001b[39m=\u001b[39m img_decode(f\u001b[39m.\u001b[39mread())\n\u001b[1;32m    443\u001b[0m \u001b[39mif\u001b[39;00m img \u001b[39mis\u001b[39;00m \u001b[39mNone\u001b[39;00m:\n",
      "\u001b[0;31mFileNotFoundError\u001b[0m: [Errno 2] No such file or directory: '/Users/make/projects/PaddleOCR/train_data/100_сурет_карточка/[әлем]_123.JPG'"
     ]
    }
   ],
   "source": [
    "img_path = '/Users/make/projects/PaddleOCR/train_data/100_сурет_карточка/[әлем]_123.JPG'\n",
    "result = ocr.ocr(img_path,  rec=False)\n",
    "for idx in range(len(result)):\n",
    "    res = result[idx]\n",
    "    for line in res:\n",
    "        print(line)"
   ]
  },
  {
   "cell_type": "code",
   "execution_count": 36,
   "metadata": {
    "ExecuteTime": {
     "end_time": "2023-07-08T09:48:16.574503Z",
     "start_time": "2023-07-08T09:48:16.572210Z"
    }
   },
   "outputs": [],
   "source": [
    "result = result[0]"
   ]
  },
  {
   "cell_type": "code",
   "execution_count": 38,
   "metadata": {
    "ExecuteTime": {
     "end_time": "2023-07-08T09:48:32.413028Z",
     "start_time": "2023-07-08T09:48:32.074677Z"
    }
   },
   "outputs": [],
   "source": [
    "# draw result\n",
    "from PIL import Image\n",
    "image = Image.open(img_path).convert('RGB')\n",
    "boxes = result\n",
    "# txts = [line[1][0] for line in result]\n",
    "# scores = [line[1][1] for line in result]\n",
    "# rotate image 90 degrees\n",
    "# image = image.rotate(270, expand=True)\n",
    "im_show = draw_ocr(image, boxes)\n",
    "im_show = Image.fromarray(im_show )\n",
    "\n",
    "# show image in jupyter\n",
    "im_show.show()"
   ]
  },
  {
   "cell_type": "code",
   "execution_count": null,
   "metadata": {},
   "outputs": [],
   "source": []
  }
 ],
 "metadata": {
  "kernelspec": {
   "display_name": "Python 3 (ipykernel)",
   "language": "python",
   "name": "python3"
  },
  "language_info": {
   "codemirror_mode": {
    "name": "ipython",
    "version": 3
   },
   "file_extension": ".py",
   "mimetype": "text/x-python",
   "name": "python",
   "nbconvert_exporter": "python",
   "pygments_lexer": "ipython3",
   "version": "3.10.12"
  },
  "vscode": {
   "interpreter": {
    "hash": "a02ade95bef460988f5faef338129f089dafb1d1389c641c9c40bb736cd7c63d"
   }
  }
 },
 "nbformat": 4,
 "nbformat_minor": 1
}
