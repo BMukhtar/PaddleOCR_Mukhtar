{
 "cells": [
  {
   "cell_type": "code",
   "execution_count": 32,
   "metadata": {
    "collapsed": true,
    "ExecuteTime": {
     "end_time": "2023-07-08T09:46:55.290216Z",
     "start_time": "2023-07-08T09:46:54.938592Z"
    }
   },
   "outputs": [
    {
     "name": "stdout",
     "output_type": "stream",
     "text": [
      "[2023/07/08 15:46:54] ppocr DEBUG: Namespace(alpha=1.0, benchmark=False, beta=1.0, cls_batch_num=6, cls_image_shape='3, 48, 192', cls_model_dir='/Users/make/.paddleocr/whl/cls/ch_ppocr_mobile_v2.0_cls_infer', cls_thresh=0.9, cpu_threads=10, crop_res_save_dir='./output', det=True, det_algorithm='DB', det_box_type='quad', det_db_box_thresh=0.6, det_db_score_mode='fast', det_db_thresh=0.3, det_db_unclip_ratio=1.5, det_east_cover_thresh=0.1, det_east_nms_thresh=0.2, det_east_score_thresh=0.8, det_limit_side_len=960, det_limit_type='max', det_model_dir='/Users/make/.paddleocr/whl/det/ml/Multilingual_PP-OCRv3_det_infer', det_pse_box_thresh=0.85, det_pse_min_area=16, det_pse_scale=1, det_pse_thresh=0, det_sast_nms_thresh=0.2, det_sast_score_thresh=0.5, draw_img_save_dir='./inference_results', drop_score=0.5, e2e_algorithm='PGNet', e2e_char_dict_path='./ppocr/utils/ic15_dict.txt', e2e_limit_side_len=768, e2e_limit_type='max', e2e_model_dir=None, e2e_pgnet_mode='fast', e2e_pgnet_score_thresh=0.5, e2e_pgnet_valid_set='totaltext', enable_mkldnn=False, fourier_degree=5, gpu_id=0, gpu_mem=500, help='==SUPPRESS==', image_dir=None, image_orientation=False, ir_optim=True, kie_algorithm='LayoutXLM', label_list=['0', '180'], lang='ru', layout=True, layout_dict_path=None, layout_model_dir=None, layout_nms_threshold=0.5, layout_score_threshold=0.5, max_batch_size=10, max_text_length=25, merge_no_span_structure=True, min_subgraph_size=15, mode='structure', ocr=True, ocr_order_method=None, ocr_version='PP-OCRv3', output='./output', page_num=0, precision='fp32', process_id=0, re_model_dir=None, rec=True, rec_algorithm='SVTR_LCNet', rec_batch_num=6, rec_char_dict_path='/Users/make/projects/PaddleOCR/ppocr/utils/dict/cyrillic_dict.txt', rec_image_inverse=True, rec_image_shape='3, 48, 320', rec_model_dir='/Users/make/.paddleocr/whl/rec/cyrillic/cyrillic_PP-OCRv3_rec_infer', recovery=False, save_crop_res=False, save_log_path='./log_output/', scales=[8, 16, 32], ser_dict_path='../train_data/XFUND/class_list_xfun.txt', ser_model_dir=None, show_log=True, sr_batch_num=1, sr_image_shape='3, 32, 128', sr_model_dir=None, structure_version='PP-StructureV2', table=True, table_algorithm='TableAttn', table_char_dict_path=None, table_max_len=488, table_model_dir=None, total_process_num=1, type='ocr', use_angle_cls=True, use_dilation=False, use_gpu=False, use_mp=False, use_npu=False, use_onnx=False, use_pdf2docx_api=False, use_pdserving=False, use_space_char=True, use_tensorrt=False, use_visual_backbone=True, use_xpu=False, vis_font_path='./doc/fonts/simfang.ttf', warmup=False)\n"
     ]
    }
   ],
   "source": [
    "from paddleocr import PaddleOCR, draw_ocr\n",
    "\n",
    "# Paddleocr supports Chinese, English, French, German, Korean and Japanese.\n",
    "# You can set the parameter `lang` as `ch`, `en`, `fr`, `german`, `korean`, `japan`\n",
    "# to switch the language model in order.\n",
    "ocr = PaddleOCR(use_angle_cls=True, lang='ru')  # need to run only once to download and load model into memory"
   ]
  },
  {
   "cell_type": "code",
   "execution_count": 35,
   "outputs": [
    {
     "name": "stdout",
     "output_type": "stream",
     "text": [
      "[[167.0, 354.0], [347.0, 348.0], [348.0, 377.0], [168.0, 382.0]]\n",
      "[[362.0, 345.0], [442.0, 342.0], [444.0, 379.0], [363.0, 381.0]]\n",
      "[[168.0, 304.0], [280.0, 304.0], [280.0, 336.0], [168.0, 336.0]]\n",
      "[[405.0, 303.0], [482.0, 305.0], [481.0, 333.0], [404.0, 330.0]]\n",
      "[[502.0, 303.0], [584.0, 305.0], [583.0, 331.0], [501.0, 328.0]]\n",
      "[[278.0, 304.0], [405.0, 300.0], [406.0, 334.0], [279.0, 339.0]]\n",
      "[[579.0, 301.0], [751.0, 301.0], [751.0, 328.0], [579.0, 328.0]]\n",
      "[[88.0, 264.0], [150.0, 260.0], [152.0, 286.0], [89.0, 290.0]]\n",
      "[[224.0, 260.0], [286.0, 260.0], [286.0, 290.0], [224.0, 290.0]]\n",
      "[[148.0, 262.0], [188.0, 262.0], [188.0, 285.0], [148.0, 285.0]]\n",
      "[[288.0, 261.0], [323.0, 261.0], [323.0, 285.0], [288.0, 285.0]]\n",
      "[[186.0, 262.0], [209.0, 262.0], [209.0, 285.0], [186.0, 285.0]]\n",
      "[[346.0, 259.0], [438.0, 259.0], [438.0, 283.0], [346.0, 283.0]]\n",
      "[[148.0, 216.0], [265.0, 214.0], [266.0, 239.0], [148.0, 241.0]]\n",
      "[[283.0, 215.0], [340.0, 211.0], [342.0, 237.0], [285.0, 241.0]]\n",
      "[[87.0, 211.0], [146.0, 211.0], [146.0, 241.0], [87.0, 241.0]]\n",
      "[[383.0, 208.0], [481.0, 211.0], [480.0, 237.0], [382.0, 234.0]]\n",
      "[[501.0, 210.0], [598.0, 207.0], [599.0, 232.0], [502.0, 235.0]]\n",
      "[[599.0, 208.0], [702.0, 208.0], [702.0, 233.0], [599.0, 233.0]]\n",
      "[[347.0, 206.0], [383.0, 206.0], [383.0, 236.0], [347.0, 236.0]]\n",
      "[[714.0, 200.0], [777.0, 203.0], [776.0, 237.0], [713.0, 234.0]]\n",
      "[[128.0, 168.0], [170.0, 168.0], [170.0, 189.0], [128.0, 189.0]]\n",
      "[[90.0, 168.0], [126.0, 168.0], [126.0, 192.0], [90.0, 192.0]]\n",
      "[[302.0, 162.0], [381.0, 162.0], [381.0, 189.0], [302.0, 189.0]]\n",
      "[[164.0, 167.0], [286.0, 163.0], [286.0, 183.0], [165.0, 188.0]]\n",
      "[[385.0, 164.0], [403.0, 164.0], [403.0, 185.0], [385.0, 185.0]]\n",
      "[[503.0, 159.0], [545.0, 159.0], [545.0, 181.0], [503.0, 181.0]]\n",
      "[[538.0, 158.0], [579.0, 158.0], [579.0, 181.0], [538.0, 181.0]]\n",
      "[[674.0, 156.0], [734.0, 154.0], [735.0, 179.0], [675.0, 182.0]]\n",
      "[[417.0, 153.0], [500.0, 150.0], [502.0, 182.0], [419.0, 186.0]]\n",
      "[[590.0, 147.0], [682.0, 147.0], [682.0, 187.0], [590.0, 187.0]]\n",
      "[[736.0, 147.0], [791.0, 147.0], [791.0, 182.0], [736.0, 182.0]]\n",
      "[[85.0, 113.0], [204.0, 118.0], [203.0, 145.0], [84.0, 141.0]]\n",
      "[[223.0, 118.0], [378.0, 113.0], [379.0, 137.0], [224.0, 141.0]]\n",
      "[[404.0, 114.0], [440.0, 114.0], [440.0, 137.0], [404.0, 137.0]]\n",
      "[[442.0, 113.0], [580.0, 110.0], [580.0, 134.0], [443.0, 136.0]]\n",
      "[[596.0, 112.0], [795.0, 105.0], [796.0, 132.0], [597.0, 138.0]]\n",
      "[[328.0, 24.0], [491.0, 24.0], [491.0, 81.0], [328.0, 81.0]]\n"
     ]
    }
   ],
   "source": [
    "img_path = '/Users/make/projects/PaddleOCR/train_data/100_сурет_карточка/[әлем]_123.JPG'\n",
    "result = ocr.ocr(img_path,  rec=False)\n",
    "for idx in range(len(result)):\n",
    "    res = result[idx]\n",
    "    for line in res:\n",
    "        print(line)"
   ],
   "metadata": {
    "collapsed": false,
    "ExecuteTime": {
     "end_time": "2023-07-08T09:48:15.590604Z",
     "start_time": "2023-07-08T09:48:15.371288Z"
    }
   }
  },
  {
   "cell_type": "code",
   "execution_count": 36,
   "outputs": [],
   "source": [
    "result = result[0]"
   ],
   "metadata": {
    "collapsed": false,
    "ExecuteTime": {
     "end_time": "2023-07-08T09:48:16.574503Z",
     "start_time": "2023-07-08T09:48:16.572210Z"
    }
   }
  },
  {
   "cell_type": "code",
   "execution_count": 38,
   "outputs": [],
   "source": [
    "# draw result\n",
    "from PIL import Image\n",
    "image = Image.open(img_path).convert('RGB')\n",
    "boxes = result\n",
    "# txts = [line[1][0] for line in result]\n",
    "# scores = [line[1][1] for line in result]\n",
    "# rotate image 90 degrees\n",
    "# image = image.rotate(270, expand=True)\n",
    "im_show = draw_ocr(image, boxes)\n",
    "im_show = Image.fromarray(im_show )\n",
    "\n",
    "# show image in jupyter\n",
    "im_show.show()"
   ],
   "metadata": {
    "collapsed": false,
    "ExecuteTime": {
     "end_time": "2023-07-08T09:48:32.413028Z",
     "start_time": "2023-07-08T09:48:32.074677Z"
    }
   }
  },
  {
   "cell_type": "code",
   "execution_count": null,
   "outputs": [],
   "source": [],
   "metadata": {
    "collapsed": false
   }
  }
 ],
 "metadata": {
  "kernelspec": {
   "display_name": "Python 3",
   "language": "python",
   "name": "python3"
  },
  "language_info": {
   "codemirror_mode": {
    "name": "ipython",
    "version": 2
   },
   "file_extension": ".py",
   "mimetype": "text/x-python",
   "name": "python",
   "nbconvert_exporter": "python",
   "pygments_lexer": "ipython2",
   "version": "2.7.6"
  }
 },
 "nbformat": 4,
 "nbformat_minor": 0
}
